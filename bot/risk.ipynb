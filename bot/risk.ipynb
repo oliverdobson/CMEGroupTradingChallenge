{
 "cells": [
  {
   "cell_type": "markdown",
   "id": "273b9698-4795-4528-8f12-dc9f1c77f07f",
   "metadata": {},
   "source": [
    "<h1>Risk Manager</h1>"
   ]
  },
  {
   "cell_type": "markdown",
   "id": "7f41b7c2-4be4-48f0-9790-50b03075088e",
   "metadata": {},
   "source": [
    "<h3>Definition</h3> "
   ]
  },
  {
   "cell_type": "code",
   "execution_count": null,
   "id": "b40fbca1-dd5f-4807-a283-22dc4d7723cf",
   "metadata": {},
   "outputs": [],
   "source": [
    "class RiskManager:\n",
    "    "
   ]
  }
 ],
 "metadata": {
  "kernelspec": {
   "display_name": "Python [conda env:base] *",
   "language": "python",
   "name": "conda-base-py"
  },
  "language_info": {
   "codemirror_mode": {
    "name": "ipython",
    "version": 3
   },
   "file_extension": ".py",
   "mimetype": "text/x-python",
   "name": "python",
   "nbconvert_exporter": "python",
   "pygments_lexer": "ipython3",
   "version": "3.13.5"
  }
 },
 "nbformat": 4,
 "nbformat_minor": 5
}
